{
 "cells": [
  {
   "cell_type": "raw",
   "id": "33dd6c4c",
   "metadata": {},
   "source": [
    "---\n",
    "title: \"Project proposal\"\n",
    "format: \n",
    "  html:\n",
    "    toc: true\n",
    "    toc-title: Contents\n",
    "    code-fold: show\n",
    "    self-contained: true\n",
    "jupyter: python3\n",
    "---"
   ]
  },
  {
   "cell_type": "markdown",
   "id": "0116f49b",
   "metadata": {},
   "source": [
    "## Instructions {-}\n",
    "\n",
    "1. Please answer the following questions as part of your project proposal.\n",
    "\n",
    "2. Write your answers in the *Markdown* cells of the Jupyter notebook. You don't need to write any code, but if you want to, you may use the *Code* cells.\n",
    "\n",
    "3. Use [Quarto](https://quarto.org/docs/output-formats/html-basics.html) to print the *.ipynb* file as HTML. You will need to open the command prompt, navigate to the directory containing the file, and use the command: `quarto render filename.ipynb --to html`. Submit the HTML file.\n",
    "\n",
    "4. The project proposal is worth 8 points, and is due on **27th January 2023 at 11:59 pm**. \n",
    "\n",
    "5. You must make one submission as a group, and not individually.\n",
    "\n",
    "6. Each team member must have at least **one commit** on the team's github repository. No points will be awarded to the team member(s) with no commits.\n",
    "\n",
    "7. Share the link of your project's GitHub repository [here](https://docs.google.com/spreadsheets/d/1khao3unpj_vsx4kOSg_Zzo77YK1UWL2w73Oa0aAirOo/edit#gid=0)."
   ]
  },
  {
   "cell_type": "markdown",
   "id": "fe7ea9bb",
   "metadata": {},
   "source": [
    "# 1) Team name\n",
    "Krish's Fanclub\n",
    "\n",
    "*(0 points)*"
   ]
  },
  {
   "cell_type": "markdown",
   "id": "16fccc9b",
   "metadata": {},
   "source": [
    "# 2) Member names\n",
    "Samuel Sword  \n",
    "Jack McNally  \n",
    "Elijah Nacar  \n",
    "Tess Wagner\n",
    "\n",
    "*(0 points)*"
   ]
  },
  {
   "cell_type": "markdown",
   "id": "220a6528",
   "metadata": {},
   "source": [
    "# 3) Link to the GitHub repository\n",
    "Share the link of the team's project repository on GitHub.\n",
    "\n",
    "Also, put the link of your project's GitHub repository [here](https://docs.google.com/spreadsheets/d/1khao3unpj_vsx4kOSg_Zzo77YK1UWL2w73Oa0aAirOo/edit#gid=0).\n",
    "\n",
    "We believe there is no harm in having other teams view your GitHub repository. However, if you don't want anyone to see your team's work, you may make the repository *Private* and add your instructor and graduate TA as *Colloborators* in it.\n",
    "\n",
    "*(0 points)*"
   ]
  },
  {
   "cell_type": "markdown",
   "id": "331faad4",
   "metadata": {},
   "source": [
    "**https://github.com/twag25/303_2_krish_fanclub**"
   ]
  },
  {
   "cell_type": "markdown",
   "id": "16c1a490",
   "metadata": {},
   "source": [
    "# 4) Topic\n",
    "Mention the topic of your course project.\n",
    "\n",
    "*(0.25 points)*"
   ]
  },
  {
   "cell_type": "markdown",
   "id": "ca1dc3cc",
   "metadata": {},
   "source": [
    "**Despite a mediocre start to the 2022-23 season, can the Nashville Predators make the NHL playoffs? Based on data from the last 20 NHL seasons, we will predict the statistical benchmarks the Nashville Predators must meet in the second half of their season in order to make the NHL playoffs.**\n",
    "\n"
   ]
  },
  {
   "cell_type": "markdown",
   "id": "9403cdfb",
   "metadata": {},
   "source": [
    "# 5) Problem statement\n",
    "Explain the problem statement.\n",
    "\n",
    "The Nashville Predators are currently sitting near the middle of the NHL standings. The Predators want to make the playoffs just like any other NHL team. About halfway through the season, they have 23 wins and 18 losses, so their chance to make the playoffs is not looking good. Our goal is to use a linear regression model to *predict* what the Nashville Predators have to do in the second half of their season in order to qualify for the playoffs. We will look at data from the last 6 years of NHL teams who qualified for the playoffs to develop our training model. Factors such as wins, losses, home and away games, and goal differential will be considered. Because we are ultimately considering characteristics of the data that belong to playoff teams and non-playoff teams, we are dealing with a *classification* problem. To assess the accuracy of our model, we will test the model on our test dataset which will consist of a randomly selected playoff team from each of the 6 seasons. (These teams will be excluded from the training dataset.) We will calculate the precision of our model using the false positive and false negative rates to confirm that our model will provide a reliable prediction. To improve our model, we will consider transformating the predictors to obtain a better fit. We do not anticipate that we will have too many variables, but if we do, we will consider other regression methods to increase the accuracy of our model. \n",
    "\n",
    "*(5 points)*"
   ]
  },
  {
   "cell_type": "markdown",
   "id": "3eb2d4f2",
   "metadata": {},
   "source": [
    "# 6) Data sources\n",
    "\n",
    "What data sources will you use, and how will the data help answer the questions? Explain.\n",
    "\n",
    "If the data is open source, share the link of the data.\n",
    "\n",
    "*(1 point)*"
   ]
  },
  {
   "cell_type": "markdown",
   "id": "c95b7f5c",
   "metadata": {},
   "source": [
    "**https://www.kaggle.com/datasets/martinellis/nhl-game-data**\n",
    "**This data represents all offical metrics measured for every NHL game for the past 6 years. This will help provide insight for our model on the relative number of wins (home and away), goal differentials, and other notable statistics affect the statistical benchmarks that the Nashville Predators should plan to meet to qualify for Playoffs.**\n",
    "\n",
    "**https://www.hockey-reference.com/leagues/NHL_2023_games.html**\n",
    "**This data represents all of the NHL games played so far in the 22-23 season. This data will provide insight into the Predators current trajectory, representing the data that we will plug into the model to predict the necessary statistical benchmarks the Predators need to me in order to qualify for the Playoffs.**"
   ]
  },
  {
   "cell_type": "markdown",
   "id": "cb8a845f",
   "metadata": {},
   "source": [
    "# 7) Stakeholders"
   ]
  },
  {
   "cell_type": "markdown",
   "id": "d39c782c",
   "metadata": {},
   "source": [
    "Who are the stakeholders, and how will your project benefit them? Explain.\n",
    "\n",
    "The stakeholders include both the Predators organization / coaching team and sports analysts, who would want to know what goals can be set or what changes need to be made in order for the Predators to secure a playoff spot. Furthermore, this prediction could be used by sports betting organizations to inform them on the team's playoff odds and how they should weigh bets for/againts the Predators to make the playoffs.\n",
    "*(1 point)*"
   ]
  },
  {
   "cell_type": "markdown",
   "id": "57e41b2a",
   "metadata": {},
   "source": [
    "# 8) Results\n",
    "What kind of results do you expect? \n",
    "\n",
    "How much accuracy is required / desired in your model (based on the metric(s) chosen in question 5), such that it is useful to the stakeholders and why?\n",
    "\n",
    "**Hint:** If it is a classification model, then your model must be at least better than random classification. If it is a regression model, then your model must be at least better than trivial models, such as the one with only the intercept term.\n",
    "\n",
    "*(0.5 point)*"
   ]
  },
  {
   "cell_type": "markdown",
   "id": "1fba51fa",
   "metadata": {},
   "source": [
    "To be consisent with playoff probabilites for other sports, the results of our project will be in the form of the percent chance the Predators have at reaching NHL playoffs as well as benchmarks we predict they will need to reach. In order to make playoffs, a team must be amongst the top 3 teams in their respective division or one of two wild cards in their conference. As of right now, the Predators are fifth in a competitive Central Division including last year's Stanley Cup Winners, the Avalanche. With this in mind, we would expect the Predators to be underdogs to reach playoffs, but still have an opportunity to get there. In percent probability, this could be anywhere from a 25% - 50% chance. \n",
    "\n",
    "Although significant accuracy is not required in our model, the more accurate our model is the more useful it would be to the Predators organization and their fans. Models predicting playoff chances for teams change on a daily basis as teams play games and players get injured. What may be the most useful to the Predators and their fans instead of playoff chances is the team's path to playoffs. This can include which teams the Predators need to beat, as well as what results need to occur within their division. With this information, the team can focus on the games that are most important. Similar to calculating a team's chances of reaching the post season, figuring out a team's path to playoffs can change on a nightly basis. However, it is more important to have accuracy with the latter as it understood that if a team achieves their path, then they will without a doubt make playoffs."
   ]
  },
  {
   "cell_type": "markdown",
   "id": "0c874b4f",
   "metadata": {},
   "source": [
    "# 9) Work-split\n",
    "How do you plan to split the project work amongst individual team members?\n",
    "\n",
    "*(0.25 point)*"
   ]
  },
  {
   "cell_type": "markdown",
   "id": "c690dfa5",
   "metadata": {},
   "source": [
    "Our project group plans to divide the work into two major parts based on the conclusions they will provide. The first part is the percent chance the Predators will reach playoffs, and the second part is the Predators' path to playoffs. For each of these parts, data wrangling and data analysis are required. Thus, the work required for this project can be divided into four parts; one for each group member. "
   ]
  }
 ],
 "metadata": {
  "kernelspec": {
   "display_name": "Python 3 (ipykernel)",
   "language": "python",
   "name": "python3"
  },
  "language_info": {
   "codemirror_mode": {
    "name": "ipython",
    "version": 3
   },
   "file_extension": ".py",
   "mimetype": "text/x-python",
   "name": "python",
   "nbconvert_exporter": "python",
   "pygments_lexer": "ipython3",
   "version": "3.9.12"
  }
 },
 "nbformat": 4,
 "nbformat_minor": 5
}
