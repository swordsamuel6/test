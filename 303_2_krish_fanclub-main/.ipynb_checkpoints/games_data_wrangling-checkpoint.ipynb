{
 "cells": [
  {
   "cell_type": "markdown",
   "id": "a28ac36e",
   "metadata": {},
   "source": [
    "# Cleaning the Data\n",
    "- keeping only games from seasons 2007-2008 to 2017-2018 (not 12/13 bc missing data, not 18/19 bc something is messed up with home_rink_side_start)\n",
    "- replace `away_team_id`, `home_team_id` with team names\n",
    "- only regular season games because we dont want to factor in playoff data here\n",
    "- create new col \n",
    "\n",
    "\n",
    "- split into test train??\n",
    "- ask krish: which is better for regression - keeping outcome col or creating 4 new ones (homewin reg, awaywin reg, homewin ot, awaywin ot)\n",
    "\n",
    "- keeping expansion teams and teams that moved (but how does this affect autocorrelation?)"
   ]
  },
  {
   "cell_type": "code",
   "execution_count": 17,
   "id": "6bc87a48",
   "metadata": {},
   "outputs": [],
   "source": [
    "import pandas as pd"
   ]
  },
  {
   "cell_type": "code",
   "execution_count": 37,
   "id": "0007e8d7",
   "metadata": {},
   "outputs": [],
   "source": [
    "games = pd.read_csv(\"data_raw/game.csv\")\n",
    "team_info = pd.read_csv(\"data_raw/team_info.csv\")"
   ]
  },
  {
   "cell_type": "code",
   "execution_count": 38,
   "id": "7d660898",
   "metadata": {
    "scrolled": true
   },
   "outputs": [],
   "source": [
    "# keeping only games from seasons 2007-2008 to 2017-2018 (not 12/13 bc missing data, not 18/19 bc something is messed up with home_rink_side_start)\n",
    "games = games[(games['season'] >= 20072008) & (games['season'] <= 20172018)].sort_values('season')"
   ]
  },
  {
   "cell_type": "code",
   "execution_count": 39,
   "id": "9510a5be",
   "metadata": {},
   "outputs": [],
   "source": [
    "# dropping venue_link\n",
    "games.drop('venue_link', axis = 1, inplace = True)"
   ]
  },
  {
   "cell_type": "code",
   "execution_count": 40,
   "id": "b9ea1b70",
   "metadata": {},
   "outputs": [],
   "source": [
    "# dropping franchiseId (order in which the teams entered the league)\n",
    "# dropping abbreviation, link\n",
    "team_info.drop(['franchiseId', 'abbreviation', 'link'], axis = 1, inplace = True)"
   ]
  },
  {
   "cell_type": "code",
   "execution_count": 41,
   "id": "ee6af012",
   "metadata": {},
   "outputs": [],
   "source": [
    "# combining shortName and teamName\n",
    "team_info['team_name'] = team_info['shortName'] + ' ' + team_info['teamName']"
   ]
  },
  {
   "cell_type": "code",
   "execution_count": 42,
   "id": "6c9a4d9b",
   "metadata": {},
   "outputs": [],
   "source": [
    "# fixing NY team names\n",
    "team_info.replace(['NY Rangers Rangers', 'NY Islanders Islanders'], ['New York Rangers', 'New York Islanders'], inplace = True)"
   ]
  },
  {
   "cell_type": "code",
   "execution_count": 43,
   "id": "6da03e93",
   "metadata": {},
   "outputs": [],
   "source": [
    "# dropping shortName, teamName\n",
    "team_info.drop(['shortName', 'teamName'], axis = 1, inplace = True)"
   ]
  },
  {
   "cell_type": "code",
   "execution_count": 44,
   "id": "4423fe2f",
   "metadata": {},
   "outputs": [],
   "source": [
    "# replacing away_team_id, home_team_id with team names\n",
    "list_of_ids = team_info['team_id'].values\n",
    "\n",
    "for Id in list_of_ids:\n",
    "    games.away_team_id.replace(Id, team_info[team_info['team_id'] == Id]['team_name'].values[0], inplace = True)\n",
    "    games.home_team_id.replace(Id, team_info[team_info['team_id'] == Id]['team_name'].values[0], inplace = True)"
   ]
  },
  {
   "cell_type": "markdown",
   "id": "56aaab52",
   "metadata": {},
   "source": [
    "### Dataset with only regular season games"
   ]
  },
  {
   "cell_type": "code",
   "execution_count": 45,
   "id": "cd2f7736",
   "metadata": {},
   "outputs": [],
   "source": [
    "# dataset with only regular season games\n",
    "regular_season_games = games[games['type'] == 'R']"
   ]
  },
  {
   "cell_type": "code",
   "execution_count": 46,
   "id": "8f74edd8",
   "metadata": {},
   "outputs": [],
   "source": [
    "regular_season_games.to_csv('data_cleaned/regular_season_games')"
   ]
  },
  {
   "cell_type": "markdown",
   "id": "4f80744f",
   "metadata": {},
   "source": [
    "### Dataset with team names"
   ]
  },
  {
   "cell_type": "code",
   "execution_count": 14,
   "id": "e3fdb0ed",
   "metadata": {},
   "outputs": [],
   "source": [
    "team_names = team_info.drop('team_id', axis = 1)"
   ]
  },
  {
   "cell_type": "code",
   "execution_count": 16,
   "id": "aae415d9",
   "metadata": {},
   "outputs": [],
   "source": [
    "team_names.to_csv('data_cleaned/team_names.csv')"
   ]
  }
 ],
 "metadata": {
  "kernelspec": {
   "display_name": "Python 3 (ipykernel)",
   "language": "python",
   "name": "python3"
  },
  "language_info": {
   "codemirror_mode": {
    "name": "ipython",
    "version": 3
   },
   "file_extension": ".py",
   "mimetype": "text/x-python",
   "name": "python",
   "nbconvert_exporter": "python",
   "pygments_lexer": "ipython3",
   "version": "3.9.12"
  }
 },
 "nbformat": 4,
 "nbformat_minor": 5
}
