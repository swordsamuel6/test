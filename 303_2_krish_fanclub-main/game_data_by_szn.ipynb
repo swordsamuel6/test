{
 "cells": [
  {
   "cell_type": "markdown",
   "id": "2e36e057",
   "metadata": {},
   "source": [
    "Goal: determine the threshold of what it takes to be a playoff team\n",
    "\n",
    "want to know for each season, what did the teams that made the playoffs do\n",
    "then we will combine the qualifications to be a playoff team for each season to determine what our definition of a \"playoff team\" is\n",
    "\n",
    "1. Separate regular season games by season\n",
    "2. pivot data so that each team is an observation\n",
    "    - create 4 new rows (away team winner/home team winner/away team loser/home team loser) to make more sense\n",
    "    - create 2 new rows for goals scored and goals against\n",
    "    - create new dataset with totals (ex team = philly, count up all the away wins for philly and put into a col, count up all the home wins for philly and put in new column)\n",
    "3. add column that denotes whether a team made the playoffs\n",
    "\n",
    "Notes:\n",
    "- most seasons have 1230 games bc 82 games per team w/30 teams\n",
    "- 2017/18 has 1271 games bc 82 games per team w/31 teams\n",
    "- not using 2012/13 bc missing too much data\n",
    "- not using 2018/19 because something is messed up w home_rink_side_start"
   ]
  },
  {
   "cell_type": "code",
   "execution_count": 245,
   "id": "a51f604a",
   "metadata": {},
   "outputs": [],
   "source": [
    "import pandas as pd"
   ]
  },
  {
   "cell_type": "code",
   "execution_count": 246,
   "id": "8b10ac5d",
   "metadata": {},
   "outputs": [],
   "source": [
    "games = pd.read_csv(\"data_cleaned/regular_season_games\")"
   ]
  },
  {
   "cell_type": "code",
   "execution_count": 247,
   "id": "c5d6fb6d",
   "metadata": {},
   "outputs": [],
   "source": [
    "# dropping old indexes\n",
    "games.drop('Unnamed: 0', axis = 1, inplace = True)"
   ]
  },
  {
   "cell_type": "code",
   "execution_count": 248,
   "id": "c8bf2c08",
   "metadata": {},
   "outputs": [],
   "source": [
    "# creating new cols with away/home winner/loser\n",
    "games['away_wins'] = games.loc[games.outcome.isin(['away win OT', 'away win REG']), 'away_team_id']\n",
    "games['home_wins'] = games.loc[games.outcome.isin(['home win OT', 'home win REG']), 'home_team_id']\n",
    "games['away_losses'] = games.loc[games.outcome.isin(['home win OT', 'home win REG']), 'away_team_id']\n",
    "games['home_losses'] = games.loc[games.outcome.isin(['away win OT', 'away win REG']), 'home_team_id']"
   ]
  },
  {
   "cell_type": "code",
   "execution_count": 249,
   "id": "31ccaa64",
   "metadata": {},
   "outputs": [],
   "source": [
    "# creating df for each szn    \n",
    "games_07_08 = games[games['season'] == 20072008]\n",
    "games_08_09 = games[games['season'] == 20082009]\n",
    "games_09_10 = games[games['season'] == 20092010]\n",
    "games_10_11 = games[games['season'] == 20102011]\n",
    "games_11_12 = games[games['season'] == 20112012]\n",
    "games_13_14 = games[games['season'] == 20132014]\n",
    "games_14_15 = games[games['season'] == 20142015]\n",
    "games_15_16 = games[games['season'] == 20152016]\n",
    "games_16_17 = games[games['season'] == 20162017]\n",
    "games_17_18 = games[games['season'] == 20172018]"
   ]
  },
  {
   "cell_type": "code",
   "execution_count": 250,
   "id": "43c863d9",
   "metadata": {},
   "outputs": [],
   "source": [
    "# importing df with team names\n",
    "teams = pd.read_csv('data_cleaned/team_names.csv')"
   ]
  },
  {
   "cell_type": "code",
   "execution_count": 251,
   "id": "d6518b26",
   "metadata": {},
   "outputs": [],
   "source": [
    "# getting rid of unused col\n",
    "teams.drop('Unnamed: 0', axis = 1, inplace = True)"
   ]
  },
  {
   "cell_type": "code",
   "execution_count": 252,
   "id": "7e6cb5d8",
   "metadata": {},
   "outputs": [],
   "source": [
    "# creating teams df for each season\n",
    "teams_07_08 = teams.copy()\n",
    "teams_08_09 = teams.copy()\n",
    "teams_09_10 = teams.copy()\n",
    "teams_10_11 = teams.copy()\n",
    "teams_11_12 = teams.copy()\n",
    "teams_13_14 = teams.copy()\n",
    "teams_14_15 = teams.copy()\n",
    "teams_15_16 = teams.copy()\n",
    "teams_16_17 = teams.copy()\n",
    "teams_17_18 = teams.copy()"
   ]
  },
  {
   "cell_type": "code",
   "execution_count": 253,
   "id": "7b0358b8",
   "metadata": {},
   "outputs": [],
   "source": [
    "# function to add counts to new dfs\n",
    "list_of_conditions = ['away_wins', 'home_wins', 'away_losses', 'home_losses']\n",
    "list_of_teams = teams.team_name.values\n",
    "\n",
    "def get_counts(games_df, team_df):\n",
    "    for condition in list_of_conditions:\n",
    "        for team in list_of_teams: \n",
    "            team_df.loc[team_df.team_name.isin([team]), condition] = len(games_df[games_df[condition] == team])"
   ]
  },
  {
   "cell_type": "code",
   "execution_count": 254,
   "id": "4a9fbe42",
   "metadata": {},
   "outputs": [],
   "source": [
    "# adding counts\n",
    "get_counts(games_07_08, teams_07_08)\n",
    "get_counts(games_08_09, teams_08_09)\n",
    "get_counts(games_09_10, teams_09_10)\n",
    "get_counts(games_10_11, teams_10_11)\n",
    "get_counts(games_11_12, teams_11_12)\n",
    "get_counts(games_13_14, teams_13_14)\n",
    "get_counts(games_14_15, teams_14_15)\n",
    "get_counts(games_15_16, teams_15_16)\n",
    "get_counts(games_16_17, teams_16_17)\n",
    "get_counts(games_17_18, teams_17_18)"
   ]
  },
  {
   "cell_type": "code",
   "execution_count": 255,
   "id": "baa55584",
   "metadata": {},
   "outputs": [],
   "source": [
    "# function to get number of goals scored by a team\n",
    "def total_goals_scored(team, games_df):\n",
    "    return games_df.loc[games_df.away_team_id.isin([team]), 'away_goals'].sum() + games_df.loc[games_df.home_team_id.isin([team]), 'home_goals'].sum()"
   ]
  },
  {
   "cell_type": "code",
   "execution_count": 256,
   "id": "5bf054a7",
   "metadata": {},
   "outputs": [],
   "source": [
    "# function to get number of goals against a team\n",
    "def total_goals_against(team, games_df):\n",
    "    return games_df.loc[games_df.away_team_id.isin([team]), 'home_goals'].sum() + games_df.loc[games_df.home_team_id.isin([team]), 'away_goals'].sum()"
   ]
  },
  {
   "cell_type": "code",
   "execution_count": 264,
   "id": "bcc9e789",
   "metadata": {},
   "outputs": [],
   "source": [
    "# function to add total goals and goals against to teams datasets\n",
    "def get_goal_counts(games_df, team_df):\n",
    "    for team in list_of_teams:\n",
    "        team_df.loc[team_df.team_name.isin([team]), 'total_goals_scored'] = total_goals_scored(team, games_df)\n",
    "        team_df.loc[team_df.team_name.isin([team]), 'total_goals_against'] = total_goals_against(team, games_df)"
   ]
  },
  {
   "cell_type": "code",
   "execution_count": 261,
   "id": "3da7dc6a",
   "metadata": {},
   "outputs": [],
   "source": [
    "get_goal_counts(games_07_08, teams_07_08)\n",
    "get_goal_counts(games_08_09, teams_08_09)\n",
    "get_goal_counts(games_09_10, teams_09_10)\n",
    "get_goal_counts(games_10_11, teams_10_11)\n",
    "get_goal_counts(games_11_12, teams_11_12)\n",
    "get_goal_counts(games_13_14, teams_13_14)\n",
    "get_goal_counts(games_14_15, teams_14_15)\n",
    "get_goal_counts(games_15_16, teams_15_16)\n",
    "get_goal_counts(games_16_17, teams_16_17)\n",
    "get_goal_counts(games_17_18, teams_17_18)"
   ]
  },
  {
   "cell_type": "code",
   "execution_count": 336,
   "id": "93f80df5",
   "metadata": {},
   "outputs": [],
   "source": [
    "#creating functions to assign 'Yes' or 'No' to made_playoffs\n",
    "def make_playoff_team(list_of_teams, team_df):\n",
    "    team_df.fillna(value = 'No', inplace = True)\n",
    "    for team in list_of_teams: \n",
    "        team_df.loc[team_df.team_name.isin([team]), 'made_playoffs'] = 'Yes'"
   ]
  },
  {
   "cell_type": "markdown",
   "id": "2289c7ec",
   "metadata": {},
   "source": [
    "### lists of playoff teams\n",
    "data from: https://www.hockey-reference.com/playoffs/NHL_2008.html"
   ]
  },
  {
   "cell_type": "code",
   "execution_count": 340,
   "id": "2f7d2317",
   "metadata": {},
   "outputs": [],
   "source": [
    "playoffs_07_08 = ['Anaheim Ducks',\n",
    "'Boston Bruins',\n",
    "'Calgary Flames',\n",
    "'Colorado Avalanche',\n",
    "'Dallas Stars',\n",
    "'Detroit Red Wings',\n",
    "'Minnesota Wild',\n",
    "'Montreal Canadiens',\n",
    "'Nashville Predators',\n",
    "'New Jersey Devils',\n",
    "'New York Rangers',\n",
    "'Ottawa Senators',\n",
    "'Philadelphia Flyers',\n",
    "'Pittsburgh Penguins',\n",
    "'San Jose Sharks',\n",
    "'Washington Capitals']"
   ]
  },
  {
   "cell_type": "code",
   "execution_count": 341,
   "id": "1338d942",
   "metadata": {},
   "outputs": [],
   "source": [
    "playoffs_08_09 = ['Pittsburgh Penguins',\n",
    "'Detroit Red Wings',\n",
    "'Chicago Blackhawks',\n",
    "'Carolina Hurricanes',\n",
    "'Boston Bruins',\n",
    "'Anaheim Ducks',\n",
    "'Washington Capitals',\n",
    "'Vancouver Canucks',\n",
    "'New Jersey Devils',\n",
    "'New York Rangers',\n",
    "'Philadelphia Flyers',\n",
    "'Calgary Flames',\n",
    "'San Jose Sharks',\n",
    "'St Louis Blues',\n",
    "'Montreal Canadiens',\n",
    "'Columbus Blue Jackets']"
   ]
  },
  {
   "cell_type": "code",
   "execution_count": 342,
   "id": "6343b140",
   "metadata": {},
   "outputs": [],
   "source": [
    "playoffs_09_10 = ['Chicago Blackhawks',\n",
    "'Philadelphia Flyers',\n",
    "'Montreal Canadiens',\n",
    "'San Jose Sharks',\n",
    "'Pittsburgh Penguins',\n",
    "'Boston Bruins',\n",
    "'Vancouver Canucks',\n",
    "'Detroit Red Wings',\n",
    "'Phoenix Coyotes',\n",
    "'Washington Capitals',\n",
    "'Ottawa Senators',\n",
    "'Colorado Avalanche',\n",
    "'Buffalo Sabres',\n",
    "'Los Angeles Kings',\n",
    "'Nashville Predators',\n",
    "'New Jersey Devils']"
   ]
  },
  {
   "cell_type": "code",
   "execution_count": 343,
   "id": "d476f09d",
   "metadata": {},
   "outputs": [],
   "source": [
    "playoffs_10_11 = ['San Jose Sharks',\n",
    "'Boston Bruins',\n",
    "'Vancouver Canucks',\n",
    "'Nashville Predators',\n",
    "'Washington Capitals',\n",
    "'Tampa Bay Lightning',\n",
    "'Philadelphia Flyers',\n",
    "'Pittsburgh Penguins',\n",
    "'Chicago Blackhawks',\n",
    "'Buffalo Sabres',\n",
    "'Detroit Red Wings',\n",
    "'Montreal Canadiens',\n",
    "'Anaheim Ducks',\n",
    "'Los Angeles Kings',\n",
    "'New York Rangers',\n",
    "'Phoenix Coyotes']"
   ]
  },
  {
   "cell_type": "code",
   "execution_count": 344,
   "id": "0be16366",
   "metadata": {},
   "outputs": [],
   "source": [
    "playoffs_11_12 = ['Los Angeles Kings',\n",
    "'New Jersey Devils',\n",
    "'New York Rangers',\n",
    "'Phoenix Coyotes',\n",
    "'Washington Capitals',\n",
    "'Nashville Predators',\n",
    "'Philadelphia Flyers',\n",
    "'St Louis Blues',\n",
    "'Boston Bruins',\n",
    "'Ottawa Senators',\n",
    "'Florida Panthers',\n",
    "'Pittsburgh Penguins',\n",
    "'Chicago Blackhawks',\n",
    "'Detroit Red Wings',\n",
    "'Vancouver Canucks',\n",
    "'San Jose Sharks']"
   ]
  },
  {
   "cell_type": "code",
   "execution_count": 345,
   "id": "010394a5",
   "metadata": {},
   "outputs": [],
   "source": [
    "playoffs_13_14 = ['Los Angeles Kings',\n",
    "'New York Rangers',\n",
    "'Chicago Blackhawks',\n",
    "'Montreal Canadiens',\n",
    "'Boston Bruins',\n",
    "'Anaheim Ducks',\n",
    "'Pittsburgh Penguins',\n",
    "'Minnesota Wild',\n",
    "'Colorado Avalanche',\n",
    "'Philadelphia Flyers',\n",
    "'San Jose Sharks',\n",
    "'Dallas Stars',\n",
    "'Columbus Blue Jackets',\n",
    "'St Louis Blues',\n",
    "'Detroit Red Wings',\n",
    "'Tampa Bay Lightning']"
   ]
  },
  {
   "cell_type": "code",
   "execution_count": 346,
   "id": "8307ecc8",
   "metadata": {},
   "outputs": [],
   "source": [
    "playoffs_14_15 = ['Chicago Blackhawks',\n",
    "'Tampa Bay Lightning',\n",
    "'Anaheim Ducks',\n",
    "'New York Rangers',\n",
    "'Washington Capitals',\n",
    "'Montreal Canadiens',\n",
    "'Calgary Flames',\n",
    "'Minnesota Wild',\n",
    "'New York Islanders',\n",
    "'Detroit Red Wings',\n",
    "'Ottawa Senators',\n",
    "'Nashville Predators',\n",
    "'Vancouver Canucks',\n",
    "'St Louis Blues',\n",
    "'Pittsburgh Penguins',\n",
    "'Winnipeg Jets']"
   ]
  },
  {
   "cell_type": "code",
   "execution_count": 347,
   "id": "f9c8a9b4",
   "metadata": {},
   "outputs": [],
   "source": [
    "playoffs_15_16 = ['Pittsburgh Penguins',\n",
    "'San Jose Sharks',\n",
    "'Tampa Bay Lightning',\n",
    "'St Louis Blues',\n",
    "'Dallas Stars',\n",
    "'Nashville Predators',\n",
    "'Washington Capitals',\n",
    "'New York Islanders',\n",
    "'Chicago Blackhawks',\n",
    "'Anaheim Ducks',\n",
    "'Minnesota Wild',\n",
    "'Florida Panthers',\n",
    "'Philadelphia Flyers',\n",
    "'New York Rangers',\n",
    "'Detroit Red Wings',\n",
    "'Los Angeles Kings']"
   ]
  },
  {
   "cell_type": "code",
   "execution_count": 348,
   "id": "41069cdd",
   "metadata": {},
   "outputs": [],
   "source": [
    "playoffs_16_17 = ['Pittsburgh Penguins',\n",
    "'Nashville Predators',\n",
    "'Ottawa Senators',\n",
    "'Anaheim Ducks',\n",
    "'Edmonton Oilers',\n",
    "'Washington Capitals',\n",
    "'St Louis Blues',\n",
    "'New York Rangers',\n",
    "'San Jose Sharks',\n",
    "'Montreal Canadiens',\n",
    "'Boston Bruins',\n",
    "'Toronto Maple Leafs',\n",
    "'Minnesota Wild',\n",
    "'Columbus Blue Jackets',\n",
    "'Calgary Flames',\n",
    "'Chicago Blackhawks']"
   ]
  },
  {
   "cell_type": "code",
   "execution_count": 349,
   "id": "7e8c7602",
   "metadata": {},
   "outputs": [],
   "source": [
    "playoffs_17_18 = ['Washington Capitals',\n",
    "'Vegas Golden Knights',\n",
    "'Tampa Bay Lightning',\n",
    "'Winnipeg Jets',\n",
    "'Nashville Predators',\n",
    "'San Jose Sharks',\n",
    "'Pittsburgh Penguins',\n",
    "'Boston Bruins',\n",
    "'Toronto Maple Leafs',\n",
    "'Philadelphia Flyers',\n",
    "'Colorado Avalanche',\n",
    "'Columbus Blue Jackets',\n",
    "'Minnesota Wild',\n",
    "'New Jersey Devils',\n",
    "'Los Angeles Kings',\n",
    "'Anaheim Ducks']"
   ]
  },
  {
   "cell_type": "code",
   "execution_count": 389,
   "id": "db6e3f54",
   "metadata": {},
   "outputs": [],
   "source": [
    "# adding playoff data\n",
    "make_playoff_team(playoffs_07_08, teams_07_08)\n",
    "make_playoff_team(playoffs_08_09, teams_08_09)\n",
    "make_playoff_team(playoffs_09_10, teams_09_10)\n",
    "make_playoff_team(playoffs_10_11, teams_10_11)\n",
    "make_playoff_team(playoffs_11_12, teams_11_12)\n",
    "make_playoff_team(playoffs_13_14, teams_13_14)\n",
    "make_playoff_team(playoffs_14_15, teams_14_15)\n",
    "make_playoff_team(playoffs_15_16, teams_15_16)\n",
    "make_playoff_team(playoffs_16_17, teams_16_17)\n",
    "make_playoff_team(playoffs_17_18, teams_17_18)"
   ]
  },
  {
   "cell_type": "code",
   "execution_count": 376,
   "id": "1fd309e9",
   "metadata": {},
   "outputs": [],
   "source": [
    "# function to drop teams that did not exist during that season?? "
   ]
  },
  {
   "cell_type": "code",
   "execution_count": 390,
   "id": "22c406b3",
   "metadata": {},
   "outputs": [],
   "source": [
    "#function to export data to csvs\n",
    "def to_csv_file(team_df, name):\n",
    "    path = 'data_cleaned/team_data_by_szn/' + name + '.csv'\n",
    "    team_df.to_csv(path)"
   ]
  },
  {
   "cell_type": "code",
   "execution_count": 392,
   "id": "7de7520b",
   "metadata": {},
   "outputs": [],
   "source": [
    "#sending dfs to csvs\n",
    "to_csv_file(teams_07_08, 'teams_07_08')\n",
    "to_csv_file(teams_08_09, 'teams_08_09')\n",
    "to_csv_file(teams_09_10, 'teams_09_10')\n",
    "to_csv_file(teams_10_11, 'teams_10_11')\n",
    "to_csv_file(teams_11_12, 'teams_11_12')\n",
    "to_csv_file(teams_13_14, 'teams_13_14')\n",
    "to_csv_file(teams_14_15, 'teams_14_15')\n",
    "to_csv_file(teams_15_16, 'teams_15_16')\n",
    "to_csv_file(teams_16_17, 'teams_16_17')\n",
    "to_csv_file(teams_17_18, 'teams_17_18')"
   ]
  }
 ],
 "metadata": {
  "kernelspec": {
   "display_name": "Python 3 (ipykernel)",
   "language": "python",
   "name": "python3"
  },
  "language_info": {
   "codemirror_mode": {
    "name": "ipython",
    "version": 3
   },
   "file_extension": ".py",
   "mimetype": "text/x-python",
   "name": "python",
   "nbconvert_exporter": "python",
   "pygments_lexer": "ipython3",
   "version": "3.9.12"
  }
 },
 "nbformat": 4,
 "nbformat_minor": 5
}
